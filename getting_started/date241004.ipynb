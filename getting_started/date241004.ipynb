{
 "cells": [
  {
   "cell_type": "markdown",
   "metadata": {},
   "source": [
    "## 20241004 학습내용\n",
    "- 이미지 가져오기"
   ]
  },
  {
   "cell_type": "code",
   "execution_count": 69,
   "metadata": {},
   "outputs": [],
   "source": [
    "from selenium import webdriver\n",
    "from selenium.webdriver.common.by import By\n",
    "\n",
    "# 크롤링할 웹사이트 링크\n",
    "crawling_link='https://www.step.or.kr/'\n",
    "\n",
    "# 크롬 드라이버를 사용하여 브라우저를 실행 하여 웹페이지 오픈\n",
    "driver = webdriver.Chrome()\n",
    "driver.get(crawling_link) # 사이트 접속\n",
    "\n",
    "# 페이지 화면까지 클릭하는 로직\n",
    "\n",
    "# 새로운 페이지로 클릭하여 접속\n",
    "driver.find_element(By.XPATH,'/html/body/div[7]/div[1]/button/img').click()\n",
    "\n",
    "driver.find_element(By.XPATH,'//*[@id=\"popWordArea\"]/a[1]').click()\n",
    "\n",
    "driver.find_element(By.XPATH,'//*[@id=\"tab_curriculum\"]').click()\n",
    "# 암묵적 대기 설정 (5초)\n",
    "driver.implicitly_wait(5)\n"
   ]
  },
  {
   "cell_type": "code",
   "execution_count": 70,
   "metadata": {},
   "outputs": [],
   "source": [
    "# 이미지 Xpath를 PC에 저장하기\n",
    "\n",
    "# 이미지 라이브러리 임포트\n",
    "import urllib.request"
   ]
  },
  {
   "cell_type": "code",
   "execution_count": 73,
   "metadata": {},
   "outputs": [
    {
     "name": "stdout",
     "output_type": "stream",
     "text": [
      "<selenium.webdriver.remote.webelement.WebElement (session=\"c246f661a1e823d7309d3347883261b3\", element=\"f.445696D302F9FD61F24FAD3AC91ABC24.d.885793A481B947F51739300F6FDD483F.e.2640\")>\n",
      "https://cms23.step.or.kr/file/download?filePath=/olei/board/2022/09/6931BDCE-7D14-02F3-8495-97FA2FE76FC2.PNG\n"
     ]
    }
   ],
   "source": [
    "# 이미지 요소 찾기\n",
    "img_element = driver.find_element(By.XPATH,'//*[@id=\"curriculum\"]/ul[1]/li[1]/a/img')\n",
    "print(img_element)\n",
    "\n",
    "# 이미지 URL 가져오기\n",
    "img_url = img_element.get_attribute('src')\n",
    "print(img_url)"
   ]
  },
  {
   "cell_type": "code",
   "execution_count": 74,
   "metadata": {},
   "outputs": [
    {
     "data": {
      "text/plain": [
       "('data/downloaded_image.png', <http.client.HTTPMessage at 0x1f20a320210>)"
      ]
     },
     "execution_count": 74,
     "metadata": {},
     "output_type": "execute_result"
    }
   ],
   "source": [
    "# 이미지 다운로드 및 저장\n",
    "urllib.request.urlretrieve(img_url, r'data/downloaded_image.png')"
   ]
  },
  {
   "cell_type": "code",
   "execution_count": null,
   "metadata": {},
   "outputs": [],
   "source": []
  }
 ],
 "metadata": {
  "kernelspec": {
   "display_name": "Python 3",
   "language": "python",
   "name": "python3"
  },
  "language_info": {
   "codemirror_mode": {
    "name": "ipython",
    "version": 3
   },
   "file_extension": ".py",
   "mimetype": "text/x-python",
   "name": "python",
   "nbconvert_exporter": "python",
   "pygments_lexer": "ipython3",
   "version": "3.11.9"
  }
 },
 "nbformat": 4,
 "nbformat_minor": 2
}
