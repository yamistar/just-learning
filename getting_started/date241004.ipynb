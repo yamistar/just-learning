{
 "cells": [
  {
   "cell_type": "markdown",
   "metadata": {},
   "source": [
    "## 20241001 학습내용"
   ]
  },
  {
   "cell_type": "code",
   "execution_count": 1,
   "metadata": {},
   "outputs": [],
   "source": [
    "# selemium 라이브러리 설치\n",
    "\n",
    "# !pip install --user selenium"
   ]
  },
  {
   "cell_type": "markdown",
   "metadata": {},
   "source": [
    "#### Chrome 드라이버를 설치\n",
    "- 인터넷 창에서 검색해서 - 크롬 브라우져 버전에 맞게 설치\n",
    "- Chrome 최신 버전 : 129.0.6668.71(공식 빌드) (64비트)\n",
    "- https://developer.chrome.com/docs/chromedriver/downloads?hl=ko"
   ]
  },
  {
   "cell_type": "code",
   "execution_count": 2,
   "metadata": {},
   "outputs": [],
   "source": [
    "# 라이브러리 호출\n",
    "from selenium import webdriver"
   ]
  },
  {
   "cell_type": "code",
   "execution_count": 3,
   "metadata": {},
   "outputs": [],
   "source": [
    "# 브라우져를 띄운다\n",
    "driver = webdriver.Chrome()"
   ]
  },
  {
   "cell_type": "code",
   "execution_count": 4,
   "metadata": {},
   "outputs": [],
   "source": [
    "crawling_link='https://www.naver.com/'\n",
    "\n",
    "# 특정 사이트의 주소를 입력하여 브라우져를 띄운다\n",
    "driver = webdriver.Chrome()\n",
    "driver.get(crawling_link)"
   ]
  },
  {
   "cell_type": "code",
   "execution_count": 5,
   "metadata": {},
   "outputs": [],
   "source": [
    "# 페이지를 닫는다.\n",
    "driver.quit()"
   ]
  },
  {
   "cell_type": "markdown",
   "metadata": {},
   "source": [
    "## 20241002 학습내용"
   ]
  },
  {
   "cell_type": "code",
   "execution_count": 6,
   "metadata": {},
   "outputs": [],
   "source": [
    "\n",
    "from selenium import webdriver\n",
    "from selenium.webdriver.common.by import By\n",
    "\n",
    "# 크롤링할 웹사이트 링크\n",
    "crawling_link='https://www.step.or.kr/'\n",
    "\n",
    "# 크롬 드라이버를 사용하여 브라우저를 실행 하여 웹페이지 오픈\n",
    "driver = webdriver.Chrome()\n",
    "driver.get(crawling_link)"
   ]
  },
  {
   "cell_type": "markdown",
   "metadata": {},
   "source": [
    "(1)웹페이지우측상단의[Chrome맞춤설정및제어]클릭▶도구더보기▶개발자도구\n",
    "\n",
    "(2) HTML 구성코드창확인\n",
    "\n",
    "(3) ‘커서버튼’을눌러‘강의제목’위치에갖다대기\n",
    "\n",
    "(4) 강의제목위에대고클릭▶HTML 소스창에서해당태그확인\n",
    "\n",
    "(5) 마우스오른쪽클릭▶Copy ▶Copy XPath(태그복사)"
   ]
  },
  {
   "cell_type": "code",
   "execution_count": 7,
   "metadata": {},
   "outputs": [],
   "source": [
    "# 배너 닫고, 강의 목록 페이지 까지 찾아들어감\n",
    "driver.find_element(By.XPATH,'/html/body/div[7]/div[1]/button/img').click()\n",
    "\n",
    "driver.find_element(By.XPATH,'//*[@id=\"popWordArea\"]/a[1]').click()\n",
    "\n",
    "driver.find_element(By.XPATH,'//*[@id=\"tab_curriculum\"]').click()\n",
    "\n",
    "# 암묵적 대기 설정 (5초)\n",
    "driver.implicitly_wait(5)"
   ]
  },
  {
   "cell_type": "code",
   "execution_count": null,
   "metadata": {},
   "outputs": [],
   "source": [
    "# 첫 번째 커리큘럼 항목의 제목과 설명을 가져옴\n",
    "title1 = driver.find_element(By.XPATH, '//*[@id=\"curriculum\"]/ul[1]/li[1]/div/a').text\n",
    "description1 = driver.find_element(By.XPATH, '//*[@id=\"curriculum\"]/ul[1]/li[1]/div/div/p[1]').text\n",
    "\n",
    "# 첫 번째 커리큘럼 항목의 제목과 설명을 출력\n",
    "print(title1)\n",
    "print(description1)"
   ]
  },
  {
   "cell_type": "markdown",
   "metadata": {},
   "source": [
    "대량의 데이터 수집 for문 활용\n",
    "- 첫번째 항목과 마지막 항목 패턴 비교\n",
    "- '//*[@id=\"curriculum\"]/ul[1]/li[1]/div/a'\n",
    "- '//*[@id=\"curriculum\"]/ul[6]/li[2]/div/a'"
   ]
  },
  {
   "cell_type": "code",
   "execution_count": null,
   "metadata": {},
   "outputs": [],
   "source": [
    "# 1부터 6까지의 커리큘럼 항목의 제목을 가져와 출력\n",
    "for i in range (1, 6+1):\n",
    "    title = driver.find_element(By.XPATH,\n",
    "                                '//*[@id=\"curriculum\"]/ul['+str(i)+']/li[1]/div/a').text\n",
    "    print(title)"
   ]
  },
  {
   "cell_type": "code",
   "execution_count": null,
   "metadata": {},
   "outputs": [],
   "source": [
    "def get_title(driver, i, j):\n",
    "    xpath = f'//*[@id=\"curriculum\"]/ul[{i}]/li[{j}]/div/a'\n",
    "    return driver.find_element(By.XPATH, xpath).text\n",
    "\n",
    "for i in range(1, 7):\n",
    "    for j in range(1, 3):\n",
    "        title = get_title(driver, i, j)\n",
    "        print(title)"
   ]
  },
  {
   "cell_type": "code",
   "execution_count": null,
   "metadata": {},
   "outputs": [],
   "source": [
    "def get_title(driver, i, j):\n",
    "    xpath = f'//*[@id=\"curriculum\"]/ul[{i}]/li[{j}]/div/div/p[1]'\n",
    "    return driver.find_element(By.XPATH, xpath).text\n",
    "\n",
    "for i in range(1, 7):\n",
    "    for j in range(1, 3):\n",
    "        date = get_title(driver, i, j)\n",
    "        print(date)"
   ]
  },
  {
   "cell_type": "markdown",
   "metadata": {},
   "source": [
    "#### 엑셀로 변환하기"
   ]
  },
  {
   "cell_type": "code",
   "execution_count": 12,
   "metadata": {},
   "outputs": [],
   "source": [
    "\n",
    "# 데이터를 넣을 공간을 리스트 형태로 구성함\n",
    "title_box = []\n",
    "date_box = []\n",
    "\n",
    "def get_title_and_date(driver, i, j):\n",
    "    title_xpath = f'//*[@id=\"curriculum\"]/ul[{i}]/li[{j}]/div/a'\n",
    "    date_xpath = f'//*[@id=\"curriculum\"]/ul[{i}]/li[{j}]/div/div/p[1]'\n",
    "    title = driver.find_element(By.XPATH, title_xpath).text\n",
    "    date = driver.find_element(By.XPATH, date_xpath).text\n",
    "    return title, date\n",
    "\n",
    "for i in range(1, 7):\n",
    "    for j in range(1, 3):\n",
    "        title, date = get_title_and_date(driver, i, j)\n",
    "        # print(f'Title: {title}, Date: {date}')\n",
    "\n",
    "        title_box.append(title)\n",
    "        date_box.append(date)\n"
   ]
  },
  {
   "cell_type": "code",
   "execution_count": null,
   "metadata": {},
   "outputs": [],
   "source": [
    "print(title_box)\n",
    "print(date_box)"
   ]
  },
  {
   "cell_type": "code",
   "execution_count": 14,
   "metadata": {},
   "outputs": [],
   "source": [
    "# !pip install pandas"
   ]
  },
  {
   "cell_type": "code",
   "execution_count": null,
   "metadata": {},
   "outputs": [],
   "source": [
    "import pandas as pd\n",
    "df1= pd.DataFrame(data={'강의명': title_box, '강의기간': date_box})\n",
    "df1"
   ]
  },
  {
   "cell_type": "code",
   "execution_count": 16,
   "metadata": {},
   "outputs": [],
   "source": [
    "# !pip install openpyxl"
   ]
  },
  {
   "cell_type": "code",
   "execution_count": 17,
   "metadata": {},
   "outputs": [],
   "source": [
    "df1.to_excel(r'data/result241002.xlsx')"
   ]
  },
  {
   "cell_type": "markdown",
   "metadata": {},
   "source": [
    "## 20241004 학습내용\n",
    "- 이미지 가져오기"
   ]
  },
  {
   "cell_type": "code",
   "execution_count": 69,
   "metadata": {},
   "outputs": [],
   "source": [
    "from selenium import webdriver\n",
    "from selenium.webdriver.common.by import By\n",
    "\n",
    "# 크롤링할 웹사이트 링크\n",
    "crawling_link='https://www.step.or.kr/'\n",
    "\n",
    "# 크롬 드라이버를 사용하여 브라우저를 실행 하여 웹페이지 오픈\n",
    "driver = webdriver.Chrome()\n",
    "driver.get(crawling_link) # 사이트 접속\n",
    "\n",
    "# 페이지 화면까지 클릭하는 로직\n",
    "\n",
    "# 새로운 페이지로 클릭하여 접속\n",
    "driver.find_element(By.XPATH,'/html/body/div[7]/div[1]/button/img').click()\n",
    "\n",
    "driver.find_element(By.XPATH,'//*[@id=\"popWordArea\"]/a[1]').click()\n",
    "\n",
    "driver.find_element(By.XPATH,'//*[@id=\"tab_curriculum\"]').click()\n",
    "# 암묵적 대기 설정 (5초)\n",
    "driver.implicitly_wait(5)\n"
   ]
  },
  {
   "cell_type": "code",
   "execution_count": 70,
   "metadata": {},
   "outputs": [],
   "source": [
    "# 이미지 Xpath를 PC에 저장하기\n",
    "\n",
    "# 이미지 라이브러리 임포트\n",
    "import urllib.request"
   ]
  },
  {
   "cell_type": "code",
   "execution_count": 73,
   "metadata": {},
   "outputs": [
    {
     "name": "stdout",
     "output_type": "stream",
     "text": [
      "<selenium.webdriver.remote.webelement.WebElement (session=\"c246f661a1e823d7309d3347883261b3\", element=\"f.445696D302F9FD61F24FAD3AC91ABC24.d.885793A481B947F51739300F6FDD483F.e.2640\")>\n",
      "https://cms23.step.or.kr/file/download?filePath=/olei/board/2022/09/6931BDCE-7D14-02F3-8495-97FA2FE76FC2.PNG\n"
     ]
    }
   ],
   "source": [
    "# 이미지 요소 찾기\n",
    "img_element = driver.find_element(By.XPATH,'//*[@id=\"curriculum\"]/ul[1]/li[1]/a/img')\n",
    "print(img_element)\n",
    "\n",
    "# 이미지 URL 가져오기\n",
    "img_url = img_element.get_attribute('src')\n",
    "print(img_url)"
   ]
  },
  {
   "cell_type": "code",
   "execution_count": 74,
   "metadata": {},
   "outputs": [
    {
     "data": {
      "text/plain": [
       "('data/downloaded_image.png', <http.client.HTTPMessage at 0x1f20a320210>)"
      ]
     },
     "execution_count": 74,
     "metadata": {},
     "output_type": "execute_result"
    }
   ],
   "source": [
    "# 이미지 다운로드 및 저장\n",
    "urllib.request.urlretrieve(img_url, r'data/downloaded_image.png')"
   ]
  },
  {
   "cell_type": "code",
   "execution_count": null,
   "metadata": {},
   "outputs": [],
   "source": []
  }
 ],
 "metadata": {
  "kernelspec": {
   "display_name": "Python 3",
   "language": "python",
   "name": "python3"
  },
  "language_info": {
   "codemirror_mode": {
    "name": "ipython",
    "version": 3
   },
   "file_extension": ".py",
   "mimetype": "text/x-python",
   "name": "python",
   "nbconvert_exporter": "python",
   "pygments_lexer": "ipython3",
   "version": "3.11.9"
  }
 },
 "nbformat": 4,
 "nbformat_minor": 2
}
