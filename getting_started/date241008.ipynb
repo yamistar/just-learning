{
 "cells": [
  {
   "cell_type": "markdown",
   "metadata": {},
   "source": [
    "## 20241008 아무거나 연습하기"
   ]
  },
  {
   "cell_type": "code",
   "execution_count": 93,
   "metadata": {},
   "outputs": [],
   "source": [
    "from selenium import webdriver\n",
    "from selenium.webdriver.common.by import By\n",
    "# 이미지 라이브러리 임포트\n",
    "import urllib.request\n",
    "import time\n",
    "\n",
    "# 크롬 드라이버를 사용하여 브라우저를 실행 하여 웹페이지 오픈\n",
    "crawling_link='http://www.playdb.co.kr/artistdb/detail.asp?ManNo=18104'\n",
    "\n",
    "driver = webdriver.Chrome()\n",
    "driver.get(crawling_link) "
   ]
  },
  {
   "cell_type": "code",
   "execution_count": 94,
   "metadata": {},
   "outputs": [],
   "source": [
    "#출연작품 탭을 클릭한다.\n",
    "#driver.find_element(By.XPATH,'//*[@id=\"man_Tab3\"]').click()"
   ]
  },
  {
   "cell_type": "code",
   "execution_count": 95,
   "metadata": {},
   "outputs": [
    {
     "name": "stdout",
     "output_type": "stream",
     "text": [
      "1번째 ‘고도를 기다리며’를 기다리며 2024.09.07 ~ 2024.12.01\n",
      "2번째 카이 월드투어 - 서울 2024.06.29 ~ 2024.06.29\n",
      "2번째 프랑켄슈타인 - 10주년 2024.06.05 ~ 2024.08.25\n",
      "4번째 레미제라블 - 대구 2024.03.21 ~ 2024.04.07\n",
      "3번째 레미제라블 2023.11.30 ~ 2024.03.10\n",
      "6번째 판타지아 - 연천 2023.09.16 ~ 2023.09.16\n",
      "4번째 판타지아 - 의령 2023.08.25 ~ 2023.08.25\n",
      "8번째 판타지아 - 의성 2023.07.20 ~ 2023.07.20\n",
      "5번째 라스트 세션 2023.07.08 ~ 2023.09.10\n",
      "10번째 뮤지컬 갈라 콘서트 2023.06.24 ~ 2023.06.24\n"
     ]
    }
   ],
   "source": [
    "\n",
    "for i in range(1, 6):\n",
    "    for j in range(1, 3):\n",
    "        play_title = '//*[@id=\"Content1\"]/div[2]/table/tbody/tr['+str(i)+']/td['+str(j)+']/table/tbody/tr/td[2]/table/tbody/tr[1]/td/a'\n",
    "        play_dates = '//*[@id=\"Content1\"]/div[2]/table/tbody/tr['+str(i)+']/td['+str(j)+']/table/tbody/tr/td[2]/table/tbody/tr[2]/td'\n",
    "        #venue = '//*[@id=\"Content1\"]/div[2]/table/tbody/tr[1]/td[1]/table/tbody/tr/td[2]/table/tbody/tr[3]/td/a'\n",
    "        #role = '//*[@id=\"Content1\"]/div[2]/table/tbody/tr[1]/td[1]/table/tbody/tr/td[2]/table/tbody/tr[4]/td'\n",
    "\n",
    "        title = driver.find_element(By.XPATH,play_title).text\n",
    "        dates = driver.find_element(By.XPATH,play_dates).text\n",
    "        #venue = driver.find_element(By.XPATH,venue).text\n",
    "        #role = driver.find_element(By.XPATH,role).text\n",
    "\n",
    "        print(f'{i*j}번째 {title} {dates}')\n"
   ]
  },
  {
   "cell_type": "code",
   "execution_count": 96,
   "metadata": {},
   "outputs": [],
   "source": [
    "# 페이지를 닫는다.\n",
    "driver.quit()"
   ]
  }
 ],
 "metadata": {
  "kernelspec": {
   "display_name": "Python 3",
   "language": "python",
   "name": "python3"
  },
  "language_info": {
   "codemirror_mode": {
    "name": "ipython",
    "version": 3
   },
   "file_extension": ".py",
   "mimetype": "text/x-python",
   "name": "python",
   "nbconvert_exporter": "python",
   "pygments_lexer": "ipython3",
   "version": "3.11.9"
  }
 },
 "nbformat": 4,
 "nbformat_minor": 2
}
