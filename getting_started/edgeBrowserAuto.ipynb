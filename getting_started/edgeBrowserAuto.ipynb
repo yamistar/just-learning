{
 "cells": [
  {
   "cell_type": "code",
   "execution_count": 1,
   "metadata": {},
   "outputs": [],
   "source": [
    "from selenium import webdriver\n",
    "from selenium.webdriver.edge.service import Service\n",
    "from selenium.webdriver.common.by import By\n",
    "from selenium.webdriver.common.keys import Keys\n",
    "\n",
    "# Set the path of the Edge driver\n",
    "driver_path = \"C:\\\\auto\\\\edgedriver_win64\\\\msedgedriver.exe\"\n",
    "\n",
    "# Set up the Edge driver\n",
    "driver = webdriver.Edge(service=Service(driver_path))\n",
    "\n",
    "# Navigate to the URL\n",
    "driver.get(\"https://www.naver.com/\")\n",
    "\n",
    "# 이름 속성으로 검색 상자 요소를 찾습니다\n",
    "search_box = driver.find_element(By.NAME, \"query\")\n",
    "\n",
    "# 검색 상자에 \"엣지 자동화\"를 입력합니다\n",
    "search_box.send_keys(\"엣지 자동화\")\n",
    "\n",
    "# 검색을 제출합니다\n",
    "search_box.send_keys(Keys.RETURN)"
   ]
  }
 ],
 "metadata": {
  "kernelspec": {
   "display_name": "Python 3 (ipykernel)",
   "language": "python",
   "name": "python3"
  },
  "language_info": {
   "codemirror_mode": {
    "name": "ipython",
    "version": 3
   },
   "file_extension": ".py",
   "mimetype": "text/x-python",
   "name": "python",
   "nbconvert_exporter": "python",
   "pygments_lexer": "ipython3",
   "version": "3.12.4"
  }
 },
 "nbformat": 4,
 "nbformat_minor": 2
}
