{
 "cells": [
  {
   "cell_type": "markdown",
   "metadata": {},
   "source": [
    "## 20241001 학습내용"
   ]
  },
  {
   "cell_type": "code",
   "execution_count": 80,
   "metadata": {},
   "outputs": [],
   "source": [
    "# selemium 라이브러리 설치\n",
    "\n",
    "# !pip install --user selenium"
   ]
  },
  {
   "cell_type": "markdown",
   "metadata": {},
   "source": [
    "#### Chrome 드라이버를 설치\n",
    "- 인터넷 창에서 검색해서 - 크롬 브라우져 버전에 맞게 설치\n",
    "- Chrome 최신 버전 : 129.0.6668.71(공식 빌드) (64비트)\n",
    "- https://developer.chrome.com/docs/chromedriver/downloads?hl=ko"
   ]
  },
  {
   "cell_type": "code",
   "execution_count": 81,
   "metadata": {},
   "outputs": [],
   "source": [
    "# 라이브러리 호출\n",
    "from selenium import webdriver"
   ]
  },
  {
   "cell_type": "code",
   "execution_count": 82,
   "metadata": {},
   "outputs": [],
   "source": [
    "# 브라우져를 띄운다\n",
    "driver = webdriver.Chrome()"
   ]
  },
  {
   "cell_type": "code",
   "execution_count": 83,
   "metadata": {},
   "outputs": [],
   "source": [
    "crawling_link='https://www.naver.com/'\n",
    "\n",
    "# 특정 사이트의 주소를 입력하여 브라우져를 띄운다\n",
    "driver = webdriver.Chrome()\n",
    "driver.get(crawling_link)"
   ]
  },
  {
   "cell_type": "code",
   "execution_count": 84,
   "metadata": {},
   "outputs": [],
   "source": [
    "# 페이지를 닫는다.\n",
    "driver.quit()"
   ]
  },
  {
   "cell_type": "markdown",
   "metadata": {},
   "source": [
    "## 20241002 학습내용"
   ]
  },
  {
   "cell_type": "code",
   "execution_count": 85,
   "metadata": {},
   "outputs": [],
   "source": [
    "\n",
    "from selenium import webdriver\n",
    "from selenium.webdriver.common.by import By\n",
    "\n",
    "# 크롤링할 웹사이트 링크\n",
    "crawling_link='https://www.step.or.kr/'\n",
    "\n",
    "# 크롬 드라이버를 사용하여 브라우저를 실행 하여 웹페이지 오픈\n",
    "driver = webdriver.Chrome()\n",
    "driver.get(crawling_link)"
   ]
  },
  {
   "cell_type": "markdown",
   "metadata": {},
   "source": [
    "(1)웹페이지우측상단의[Chrome맞춤설정및제어]클릭▶도구더보기▶개발자도구\n",
    "\n",
    "(2) HTML 구성코드창확인\n",
    "\n",
    "(3) ‘커서버튼’을눌러‘강의제목’위치에갖다대기\n",
    "\n",
    "(4) 강의제목위에대고클릭▶HTML 소스창에서해당태그확인\n",
    "\n",
    "(5) 마우스오른쪽클릭▶Copy ▶Copy XPath(태그복사)"
   ]
  },
  {
   "cell_type": "code",
   "execution_count": 86,
   "metadata": {},
   "outputs": [],
   "source": [
    "# 배너 닫고, 강의 목록 페이지 까지 찾아들어감\n",
    "driver.find_element(By.XPATH,'/html/body/div[7]/div[1]/button/img').click()\n",
    "\n",
    "driver.find_element(By.XPATH,'//*[@id=\"popWordArea\"]/a[1]').click()\n",
    "\n",
    "driver.find_element(By.XPATH,'//*[@id=\"tab_curriculum\"]').click()\n",
    "\n",
    "# 암묵적 대기 설정 (5초)\n",
    "driver.implicitly_wait(5)"
   ]
  },
  {
   "cell_type": "code",
   "execution_count": 88,
   "metadata": {},
   "outputs": [
    {
     "name": "stdout",
     "output_type": "stream",
     "text": [
      "파이썬을 기반으로한 프로그래밍 알고리즘 기초\n",
      "[상시] 2024.01.01~2024.12.31\n"
     ]
    }
   ],
   "source": [
    "# 첫 번째 커리큘럼 항목의 제목과 설명을 가져옴\n",
    "title1 = driver.find_element(By.XPATH, '//*[@id=\"curriculum\"]/ul[1]/li[1]/div/a').text\n",
    "description1 = driver.find_element(By.XPATH, '//*[@id=\"curriculum\"]/ul[1]/li[1]/div/div/p[1]').text\n",
    "\n",
    "# 첫 번째 커리큘럼 항목의 제목과 설명을 출력\n",
    "print(title1)\n",
    "print(description1)"
   ]
  },
  {
   "cell_type": "markdown",
   "metadata": {},
   "source": [
    "대량의 데이터 수집 for문 활용\n",
    "- 첫번째 항목과 마지막 항목 패턴 비교\n",
    "- '//*[@id=\"curriculum\"]/ul[1]/li[1]/div/a'\n",
    "- '//*[@id=\"curriculum\"]/ul[6]/li[2]/div/a'"
   ]
  },
  {
   "cell_type": "code",
   "execution_count": 89,
   "metadata": {},
   "outputs": [
    {
     "name": "stdout",
     "output_type": "stream",
     "text": [
      "파이썬을 기반으로한 프로그래밍 알고리즘 기초\n",
      "파이썬을 이용한 비트코인 자동매매\n",
      "파이썬(판다스)으로 배우는 데이터 분석 입문\n",
      "[K-디지털] 빅데이터 수집시스템 개발\n",
      "파이썬으로 하는 주식, 암호화폐 시장 데이터 분석\n",
      "파이썬으로 하는 주식, 암호화폐 시장 데이터 분석\n"
     ]
    }
   ],
   "source": [
    "# 1부터 6까지의 커리큘럼 항목의 제목을 가져와 출력\n",
    "for i in range (1, 6+1):\n",
    "    title = driver.find_element(By.XPATH,\n",
    "                                '//*[@id=\"curriculum\"]/ul['+str(i)+']/li[1]/div/a').text\n",
    "    print(title)"
   ]
  },
  {
   "cell_type": "code",
   "execution_count": 90,
   "metadata": {},
   "outputs": [
    {
     "name": "stdout",
     "output_type": "stream",
     "text": [
      "파이썬을 기반으로한 프로그래밍 알고리즘 기초\n",
      "빅데이터 수집시스템 개발\n",
      "파이썬을 이용한 비트코인 자동매매\n",
      "Python GPT API 가이드 - 코드 구현, 이용요금 충전, 사용량 확인\n",
      "파이썬(판다스)으로 배우는 데이터 분석 입문\n",
      "세상에서 가장 쉬운 IT 부트캠프, 파이썬 BASIC\n",
      "[K-디지털] 빅데이터 수집시스템 개발\n",
      "GPT API를 사용한 티스토리 자동 글쓰기 프로그램 만들기\n",
      "파이썬으로 하는 주식, 암호화폐 시장 데이터 분석\n",
      "[K-디지털] 파이썬으로 하는 주식, 암호화폐 시장 데이터 분석\n",
      "파이썬으로 하는 주식, 암호화폐 시장 데이터 분석\n",
      "빅데이터 수집시스템 개발\n"
     ]
    }
   ],
   "source": [
    "def get_title(driver, i, j):\n",
    "    xpath = f'//*[@id=\"curriculum\"]/ul[{i}]/li[{j}]/div/a'\n",
    "    return driver.find_element(By.XPATH, xpath).text\n",
    "\n",
    "for i in range(1, 7):\n",
    "    for j in range(1, 3):\n",
    "        title = get_title(driver, i, j)\n",
    "        print(title)"
   ]
  },
  {
   "cell_type": "code",
   "execution_count": 91,
   "metadata": {},
   "outputs": [
    {
     "name": "stdout",
     "output_type": "stream",
     "text": [
      "[상시] 2024.01.01~2024.12.31\n",
      "[정규] 2024.10.15~2024.11.14\n",
      "[상시] 2024.01.01~2024.12.31\n",
      "[상시] 2024.07.12~2024.12.31\n",
      "[상시] 2024.01.01~2024.12.31\n",
      "[상시] 2024.01.01~2024.12.31\n",
      "[상시] 2024.02.25~2025.02.28\n",
      "[상시] 2024.07.12~2024.12.31\n",
      "[상시] 2024.06.01~2024.12.31\n",
      "[상시] 2024.02.25~2025.02.28\n",
      "[정규] 2024.10.15~2024.11.14\n",
      "[상시] 2024.06.01~2024.12.31\n"
     ]
    }
   ],
   "source": [
    "def get_title(driver, i, j):\n",
    "    xpath = f'//*[@id=\"curriculum\"]/ul[{i}]/li[{j}]/div/div/p[1]'\n",
    "    return driver.find_element(By.XPATH, xpath).text\n",
    "\n",
    "for i in range(1, 7):\n",
    "    for j in range(1, 3):\n",
    "        date = get_title(driver, i, j)\n",
    "        print(date)"
   ]
  },
  {
   "cell_type": "markdown",
   "metadata": {},
   "source": [
    "#### 엑셀로 변환하기"
   ]
  },
  {
   "cell_type": "code",
   "execution_count": 92,
   "metadata": {},
   "outputs": [],
   "source": [
    "\n",
    "# 데이터를 넣을 공간을 리스트 형태로 구성함\n",
    "title_box = []\n",
    "date_box = []\n",
    "\n",
    "def get_title_and_date(driver, i, j):\n",
    "    title_xpath = f'//*[@id=\"curriculum\"]/ul[{i}]/li[{j}]/div/a'\n",
    "    date_xpath = f'//*[@id=\"curriculum\"]/ul[{i}]/li[{j}]/div/div/p[1]'\n",
    "    title = driver.find_element(By.XPATH, title_xpath).text\n",
    "    date = driver.find_element(By.XPATH, date_xpath).text\n",
    "    return title, date\n",
    "\n",
    "for i in range(1, 7):\n",
    "    for j in range(1, 3):\n",
    "        title, date = get_title_and_date(driver, i, j)\n",
    "        # print(f'Title: {title}, Date: {date}')\n",
    "\n",
    "        title_box.append(title)\n",
    "        date_box.append(date)\n"
   ]
  },
  {
   "cell_type": "code",
   "execution_count": 93,
   "metadata": {},
   "outputs": [
    {
     "name": "stdout",
     "output_type": "stream",
     "text": [
      "['파이썬을 기반으로한 프로그래밍 알고리즘 기초', '빅데이터 수집시스템 개발', '파이썬을 이용한 비트코인 자동매매', 'Python GPT API 가이드 - 코드 구현, 이용요금 충전, 사용량 확인', '파이썬(판다스)으로 배우는 데이터 분석 입문', '세상에서 가장 쉬운 IT 부트캠프, 파이썬 BASIC', '[K-디지털] 빅데이터 수집시스템 개발', 'GPT API를 사용한 티스토리 자동 글쓰기 프로그램 만들기', '파이썬으로 하는 주식, 암호화폐 시장 데이터 분석', '[K-디지털] 파이썬으로 하는 주식, 암호화폐 시장 데이터 분석', '파이썬으로 하는 주식, 암호화폐 시장 데이터 분석', '빅데이터 수집시스템 개발']\n",
      "['[상시] 2024.01.01~2024.12.31', '[정규] 2024.10.15~2024.11.14', '[상시] 2024.01.01~2024.12.31', '[상시] 2024.07.12~2024.12.31', '[상시] 2024.01.01~2024.12.31', '[상시] 2024.01.01~2024.12.31', '[상시] 2024.02.25~2025.02.28', '[상시] 2024.07.12~2024.12.31', '[상시] 2024.06.01~2024.12.31', '[상시] 2024.02.25~2025.02.28', '[정규] 2024.10.15~2024.11.14', '[상시] 2024.06.01~2024.12.31']\n"
     ]
    }
   ],
   "source": [
    "print(title_box)\n",
    "print(date_box)"
   ]
  },
  {
   "cell_type": "code",
   "execution_count": 94,
   "metadata": {},
   "outputs": [],
   "source": [
    "# !pip install pandas"
   ]
  },
  {
   "cell_type": "code",
   "execution_count": 95,
   "metadata": {},
   "outputs": [
    {
     "data": {
      "text/html": [
       "<div>\n",
       "<style scoped>\n",
       "    .dataframe tbody tr th:only-of-type {\n",
       "        vertical-align: middle;\n",
       "    }\n",
       "\n",
       "    .dataframe tbody tr th {\n",
       "        vertical-align: top;\n",
       "    }\n",
       "\n",
       "    .dataframe thead th {\n",
       "        text-align: right;\n",
       "    }\n",
       "</style>\n",
       "<table border=\"1\" class=\"dataframe\">\n",
       "  <thead>\n",
       "    <tr style=\"text-align: right;\">\n",
       "      <th></th>\n",
       "      <th>강의명</th>\n",
       "      <th>강의기간</th>\n",
       "    </tr>\n",
       "  </thead>\n",
       "  <tbody>\n",
       "    <tr>\n",
       "      <th>0</th>\n",
       "      <td>파이썬을 기반으로한 프로그래밍 알고리즘 기초</td>\n",
       "      <td>[상시] 2024.01.01~2024.12.31</td>\n",
       "    </tr>\n",
       "    <tr>\n",
       "      <th>1</th>\n",
       "      <td>빅데이터 수집시스템 개발</td>\n",
       "      <td>[정규] 2024.10.15~2024.11.14</td>\n",
       "    </tr>\n",
       "    <tr>\n",
       "      <th>2</th>\n",
       "      <td>파이썬을 이용한 비트코인 자동매매</td>\n",
       "      <td>[상시] 2024.01.01~2024.12.31</td>\n",
       "    </tr>\n",
       "    <tr>\n",
       "      <th>3</th>\n",
       "      <td>Python GPT API 가이드 - 코드 구현, 이용요금 충전, 사용량 확인</td>\n",
       "      <td>[상시] 2024.07.12~2024.12.31</td>\n",
       "    </tr>\n",
       "    <tr>\n",
       "      <th>4</th>\n",
       "      <td>파이썬(판다스)으로 배우는 데이터 분석 입문</td>\n",
       "      <td>[상시] 2024.01.01~2024.12.31</td>\n",
       "    </tr>\n",
       "    <tr>\n",
       "      <th>5</th>\n",
       "      <td>세상에서 가장 쉬운 IT 부트캠프, 파이썬 BASIC</td>\n",
       "      <td>[상시] 2024.01.01~2024.12.31</td>\n",
       "    </tr>\n",
       "    <tr>\n",
       "      <th>6</th>\n",
       "      <td>[K-디지털] 빅데이터 수집시스템 개발</td>\n",
       "      <td>[상시] 2024.02.25~2025.02.28</td>\n",
       "    </tr>\n",
       "    <tr>\n",
       "      <th>7</th>\n",
       "      <td>GPT API를 사용한 티스토리 자동 글쓰기 프로그램 만들기</td>\n",
       "      <td>[상시] 2024.07.12~2024.12.31</td>\n",
       "    </tr>\n",
       "    <tr>\n",
       "      <th>8</th>\n",
       "      <td>파이썬으로 하는 주식, 암호화폐 시장 데이터 분석</td>\n",
       "      <td>[상시] 2024.06.01~2024.12.31</td>\n",
       "    </tr>\n",
       "    <tr>\n",
       "      <th>9</th>\n",
       "      <td>[K-디지털] 파이썬으로 하는 주식, 암호화폐 시장 데이터 분석</td>\n",
       "      <td>[상시] 2024.02.25~2025.02.28</td>\n",
       "    </tr>\n",
       "    <tr>\n",
       "      <th>10</th>\n",
       "      <td>파이썬으로 하는 주식, 암호화폐 시장 데이터 분석</td>\n",
       "      <td>[정규] 2024.10.15~2024.11.14</td>\n",
       "    </tr>\n",
       "    <tr>\n",
       "      <th>11</th>\n",
       "      <td>빅데이터 수집시스템 개발</td>\n",
       "      <td>[상시] 2024.06.01~2024.12.31</td>\n",
       "    </tr>\n",
       "  </tbody>\n",
       "</table>\n",
       "</div>"
      ],
      "text/plain": [
       "                                            강의명                        강의기간\n",
       "0                      파이썬을 기반으로한 프로그래밍 알고리즘 기초  [상시] 2024.01.01~2024.12.31\n",
       "1                                 빅데이터 수집시스템 개발  [정규] 2024.10.15~2024.11.14\n",
       "2                            파이썬을 이용한 비트코인 자동매매  [상시] 2024.01.01~2024.12.31\n",
       "3   Python GPT API 가이드 - 코드 구현, 이용요금 충전, 사용량 확인  [상시] 2024.07.12~2024.12.31\n",
       "4                      파이썬(판다스)으로 배우는 데이터 분석 입문  [상시] 2024.01.01~2024.12.31\n",
       "5                 세상에서 가장 쉬운 IT 부트캠프, 파이썬 BASIC  [상시] 2024.01.01~2024.12.31\n",
       "6                         [K-디지털] 빅데이터 수집시스템 개발  [상시] 2024.02.25~2025.02.28\n",
       "7             GPT API를 사용한 티스토리 자동 글쓰기 프로그램 만들기  [상시] 2024.07.12~2024.12.31\n",
       "8                   파이썬으로 하는 주식, 암호화폐 시장 데이터 분석  [상시] 2024.06.01~2024.12.31\n",
       "9           [K-디지털] 파이썬으로 하는 주식, 암호화폐 시장 데이터 분석  [상시] 2024.02.25~2025.02.28\n",
       "10                  파이썬으로 하는 주식, 암호화폐 시장 데이터 분석  [정규] 2024.10.15~2024.11.14\n",
       "11                                빅데이터 수집시스템 개발  [상시] 2024.06.01~2024.12.31"
      ]
     },
     "execution_count": 95,
     "metadata": {},
     "output_type": "execute_result"
    }
   ],
   "source": [
    "import pandas as pd\n",
    "df1= pd.DataFrame(data={'강의명': title_box, '강의기간': date_box})\n",
    "df1"
   ]
  },
  {
   "cell_type": "code",
   "execution_count": 96,
   "metadata": {},
   "outputs": [],
   "source": [
    "# !pip install openpyxl"
   ]
  },
  {
   "cell_type": "code",
   "execution_count": 97,
   "metadata": {},
   "outputs": [],
   "source": [
    "df1.to_excel(r'data/result241002.xlsx')"
   ]
  },
  {
   "cell_type": "code",
   "execution_count": 98,
   "metadata": {},
   "outputs": [],
   "source": [
    "# 페이지를 닫는다.\n",
    "driver.quit()"
   ]
  }
 ],
 "metadata": {
  "kernelspec": {
   "display_name": "Python 3",
   "language": "python",
   "name": "python3"
  },
  "language_info": {
   "codemirror_mode": {
    "name": "ipython",
    "version": 3
   },
   "file_extension": ".py",
   "mimetype": "text/x-python",
   "name": "python",
   "nbconvert_exporter": "python",
   "pygments_lexer": "ipython3",
   "version": "3.11.9"
  }
 },
 "nbformat": 4,
 "nbformat_minor": 2
}
