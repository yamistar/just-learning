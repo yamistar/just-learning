{
 "cells": [
  {
   "cell_type": "code",
   "execution_count": 1,
   "metadata": {},
   "outputs": [],
   "source": [
    "# selemium 라이브러리\n",
    "# 필요한 셀레늄 라이브러리를 설치해야 한다. \n",
    "# !pip install --user selenium"
   ]
  },
  {
   "cell_type": "code",
   "execution_count": 2,
   "metadata": {},
   "outputs": [],
   "source": [
    "# Chrome 드라이버를 설치할거야.\n",
    "# 인터넷 창에서 검색해서 설치하렴 - 크롬 브라우져 버전에 맞게 설치하렴\n",
    "# Chrome이 최신 버전임\n",
    "# 버전 129.0.6668.71(공식 빌드) (64비트)\n",
    "# https://developer.chrome.com/docs/chromedriver/downloads?hl=ko"
   ]
  },
  {
   "cell_type": "code",
   "execution_count": 3,
   "metadata": {},
   "outputs": [],
   "source": [
    "# 라이브러리 호출\n",
    "from selenium import webdriver"
   ]
  },
  {
   "cell_type": "code",
   "execution_count": 4,
   "metadata": {},
   "outputs": [],
   "source": [
    "# 브라우져를 띄운다\n",
    "driver = webdriver.Chrome()"
   ]
  },
  {
   "cell_type": "code",
   "execution_count": 5,
   "metadata": {},
   "outputs": [],
   "source": [
    "crawling_link='https://www.naver.com/'\n",
    "\n",
    "# 특정 사이트의 주소를 입력하여 브라우져를 띄운다\n",
    "driver = webdriver.Chrome()\n",
    "driver.get(crawling_link)"
   ]
  },
  {
   "cell_type": "code",
   "execution_count": 6,
   "metadata": {},
   "outputs": [],
   "source": [
    "# 페이지를 닫는다.\n",
    "driver.quit()"
   ]
  }
 ],
 "metadata": {
  "kernelspec": {
   "display_name": "Python 3",
   "language": "python",
   "name": "python3"
  },
  "language_info": {
   "codemirror_mode": {
    "name": "ipython",
    "version": 3
   },
   "file_extension": ".py",
   "mimetype": "text/x-python",
   "name": "python",
   "nbconvert_exporter": "python",
   "pygments_lexer": "ipython3",
   "version": "3.11.9"
  }
 },
 "nbformat": 4,
 "nbformat_minor": 2
}
