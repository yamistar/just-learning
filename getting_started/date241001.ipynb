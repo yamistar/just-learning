{
 "cells": [
  {
   "cell_type": "code",
   "execution_count": 1,
   "metadata": {},
   "outputs": [],
   "source": [
    "# selemium 라이브러리\n",
    "# 필요한 셀레늄 라이브러리를 설치해야 한다. \n",
    "# !pip install --user selenium"
   ]
  },
  {
   "cell_type": "code",
   "execution_count": 2,
   "metadata": {},
   "outputs": [],
   "source": [
    "# Chrome 드라이버를 설치할거야.\n",
    "# 인터넷 창에서 검색해서 설치하렴 - 크롬 브라우져 버전에 맞게 설치하렴\n",
    "# Chrome이 최신 버전임\n",
    "# 버전 129.0.6668.71(공식 빌드) (64비트)\n",
    "# https://developer.chrome.com/docs/chromedriver/downloads?hl=ko"
   ]
  },
  {
   "cell_type": "code",
   "execution_count": 3,
   "metadata": {},
   "outputs": [],
   "source": [
    "# 라이브러리 호출\n",
    "from selenium import webdriver"
   ]
  },
  {
   "cell_type": "code",
   "execution_count": 4,
   "metadata": {},
   "outputs": [],
   "source": [
    "# 브라우져를 띄운다\n",
    "driver = webdriver.Chrome()"
   ]
  },
  {
   "cell_type": "code",
   "execution_count": 5,
   "metadata": {},
   "outputs": [],
   "source": [
    "crawling_link='https://www.naver.com/'\n",
    "\n",
    "# 특정 사이트의 주소를 입력하여 브라우져를 띄운다\n",
    "driver = webdriver.Chrome()\n",
    "driver.get(crawling_link)"
   ]
  },
  {
   "cell_type": "code",
   "execution_count": 6,
   "metadata": {},
   "outputs": [],
   "source": [
    "# 페이지를 닫는다.\n",
    "driver.quit()"
   ]
  },
  {
   "cell_type": "code",
   "execution_count": 7,
   "metadata": {},
   "outputs": [],
   "source": [
    "# 20241002\n",
    "\n",
    "from selenium import webdriver\n",
    "from selenium.webdriver.common.by import By\n"
   ]
  },
  {
   "cell_type": "code",
   "execution_count": 10,
   "metadata": {},
   "outputs": [],
   "source": [
    "# 사이트 주소를 변수로 선언\n",
    "crawling_link='https://www.step.or.kr/'"
   ]
  },
  {
   "cell_type": "code",
   "execution_count": 11,
   "metadata": {},
   "outputs": [],
   "source": [
    "# 웹페이지 오픈\n",
    "driver = webdriver.Chrome()\n",
    "driver.get(crawling_link)"
   ]
  },
  {
   "cell_type": "markdown",
   "metadata": {},
   "source": [
    "(1)웹페이지우측상단의[Chrome맞춤설정및제어]클릭\n",
    "▶도구더보기▶개발자도구\n",
    "(2) HTML 구성코드창확인\n",
    "(3) ‘커서버튼’을눌러‘강의제목’위치에갖다대기\n",
    "(4) 강의제목위에대고클릭\n",
    "▶HTML 소스창에서해당태그확인\n",
    "(5) 마우스오른쪽클릭▶Copy ▶Copy XPath(태그복사)"
   ]
  },
  {
   "cell_type": "code",
   "execution_count": null,
   "metadata": {},
   "outputs": [],
   "source": [
    "driver.find_element(By.XPATH,'//*[@id=\"curriculum\"]/ul[1]/li[1]/div/a').text"
   ]
  },
  {
   "cell_type": "code",
   "execution_count": null,
   "metadata": {},
   "outputs": [],
   "source": [
    "driver.find_element(By.XPATH,'//*[@id=\"curriculum\"]/ul[1]/li[1]/div/div/p[1]').text"
   ]
  },
  {
   "cell_type": "markdown",
   "metadata": {},
   "source": [
    "대량의 데이터 수집 for문 활용\n",
    "- 첫번째 항목과 마지막 항목 패턴 비교\n",
    "\n",
    "'//*[@id=\"curriculum\"]/ul[1]/li[1]/div/a'\n",
    "'//*[@id=\"curriculum\"]/ul[6]/li[2]/div/a'\n",
    "\n"
   ]
  },
  {
   "cell_type": "code",
   "execution_count": null,
   "metadata": {},
   "outputs": [],
   "source": [
    "for i in range (1, 6+1):\n",
    "    title = driver.find_element(By.XPATH,\n",
    "                                '//*[@id=\"curriculum\"]/ul['+str(i)+']/li[1]/div/a').text\n",
    "    print(title)"
   ]
  },
  {
   "cell_type": "code",
   "execution_count": null,
   "metadata": {},
   "outputs": [],
   "source": [
    "def get_title(driver, i, j):\n",
    "    xpath = f'//*[@id=\"curriculum\"]/ul[{i}]/li[{j}]/div/a'\n",
    "    return driver.find_element(By.XPATH, xpath).text\n",
    "\n",
    "for i in range(1, 7):\n",
    "    for j in range(1, 3):\n",
    "        title = get_title(driver, i, j)\n",
    "        print(title)"
   ]
  },
  {
   "cell_type": "code",
   "execution_count": null,
   "metadata": {},
   "outputs": [],
   "source": [
    "def get_title(driver, i, j):\n",
    "    xpath = f'//*[@id=\"curriculum\"]/ul[{i}]/li[{j}]/div/div/p[1]'\n",
    "    return driver.find_element(By.XPATH, xpath).text\n",
    "\n",
    "for i in range(1, 7):\n",
    "    for j in range(1, 3):\n",
    "        date = get_title(driver, i, j)\n",
    "        print(date)"
   ]
  },
  {
   "cell_type": "code",
   "execution_count": 21,
   "metadata": {},
   "outputs": [],
   "source": [
    "# 엑셀로 변환하기\n",
    "\n",
    "# 데이터를 넣을 공간을 리스트 형태로 구성함\n",
    "title_box = []\n",
    "date_box = []\n",
    "\n",
    "def get_title_and_date(driver, i, j):\n",
    "    title_xpath = f'//*[@id=\"curriculum\"]/ul[{i}]/li[{j}]/div/a'\n",
    "    date_xpath = f'//*[@id=\"curriculum\"]/ul[{i}]/li[{j}]/div/div/p[1]'\n",
    "    title = driver.find_element(By.XPATH, title_xpath).text\n",
    "    date = driver.find_element(By.XPATH, date_xpath).text\n",
    "    return title, date\n",
    "\n",
    "for i in range(1, 7):\n",
    "    for j in range(1, 3):\n",
    "        title, date = get_title_and_date(driver, i, j)\n",
    "        # print(f'Title: {title}, Date: {date}')\n",
    "\n",
    "        title_box.append(title)\n",
    "        date_box.append(date)\n"
   ]
  },
  {
   "cell_type": "code",
   "execution_count": null,
   "metadata": {},
   "outputs": [],
   "source": [
    "title_box"
   ]
  },
  {
   "cell_type": "code",
   "execution_count": null,
   "metadata": {},
   "outputs": [],
   "source": [
    "date_box"
   ]
  },
  {
   "cell_type": "code",
   "execution_count": null,
   "metadata": {},
   "outputs": [],
   "source": [
    "# !pip install pandas"
   ]
  },
  {
   "cell_type": "code",
   "execution_count": null,
   "metadata": {},
   "outputs": [],
   "source": [
    "import pandas as pd\n",
    "df1= pd.DataFrame(data={'강의명': title_box, '강의기간': date_box})\n",
    "df1"
   ]
  },
  {
   "cell_type": "code",
   "execution_count": null,
   "metadata": {},
   "outputs": [],
   "source": [
    "!pip install openpyxl"
   ]
  },
  {
   "cell_type": "code",
   "execution_count": 38,
   "metadata": {},
   "outputs": [],
   "source": [
    "df1.to_excel(r'data/result241002.xlsx')"
   ]
  }
 ],
 "metadata": {
  "kernelspec": {
   "display_name": "Python 3",
   "language": "python",
   "name": "python3"
  },
  "language_info": {
   "codemirror_mode": {
    "name": "ipython",
    "version": 3
   },
   "file_extension": ".py",
   "mimetype": "text/x-python",
   "name": "python",
   "nbconvert_exporter": "python",
   "pygments_lexer": "ipython3",
   "version": "3.11.9"
  }
 },
 "nbformat": 4,
 "nbformat_minor": 2
}
