{
 "cells": [
  {
   "cell_type": "code",
   "execution_count": 1,
   "metadata": {},
   "outputs": [],
   "source": [
    "# selemium 라이브러리\n",
    "# 필요한 셀레늄 라이브러리를 설치해야 한다. \n",
    "# !pip install --user selenium"
   ]
  },
  {
   "cell_type": "code",
   "execution_count": 2,
   "metadata": {},
   "outputs": [],
   "source": [
    "# Chrome 드라이버를 설치할거야.\n",
    "# 인터넷 창에서 검색해서 설치하렴 - 크롬 브라우져 버전에 맞게 설치하렴\n",
    "# Chrome이 최신 버전임\n",
    "# 버전 129.0.6668.71(공식 빌드) (64비트)\n",
    "# https://developer.chrome.com/docs/chromedriver/downloads?hl=ko"
   ]
  },
  {
   "cell_type": "code",
   "execution_count": 3,
   "metadata": {},
   "outputs": [],
   "source": [
    "# 라이브러리 호출\n",
    "from selenium import webdriver"
   ]
  },
  {
   "cell_type": "code",
   "execution_count": 4,
   "metadata": {},
   "outputs": [],
   "source": [
    "# 브라우져를 띄운다\n",
    "driver = webdriver.Chrome()"
   ]
  },
  {
   "cell_type": "code",
   "execution_count": 5,
   "metadata": {},
   "outputs": [],
   "source": [
    "crawling_link='https://www.naver.com/'\n",
    "\n",
    "# 특정 사이트의 주소를 입력하여 브라우져를 띄운다\n",
    "driver = webdriver.Chrome()\n",
    "driver.get(crawling_link)"
   ]
  },
  {
   "cell_type": "code",
   "execution_count": 6,
   "metadata": {},
   "outputs": [],
   "source": [
    "# 페이지를 닫는다.\n",
    "driver.quit()"
   ]
  },
  {
   "cell_type": "code",
   "execution_count": 7,
   "metadata": {},
   "outputs": [],
   "source": [
    "# 20241002\n",
    "\n",
    "from selenium import webdriver\n",
    "from selenium.webdriver.common.by import By\n"
   ]
  },
  {
   "cell_type": "code",
   "execution_count": 10,
   "metadata": {},
   "outputs": [],
   "source": [
    "# 사이트 주소를 변수로 선언\n",
    "crawling_link='https://www.step.or.kr/'"
   ]
  },
  {
   "cell_type": "code",
   "execution_count": 11,
   "metadata": {},
   "outputs": [],
   "source": [
    "# 웹페이지 오픈\n",
    "driver = webdriver.Chrome()\n",
    "driver.get(crawling_link)"
   ]
  },
  {
   "cell_type": "markdown",
   "metadata": {},
   "source": [
    "(1)웹페이지우측상단의[Chrome맞춤설정및제어]클릭\n",
    "▶도구더보기▶개발자도구\n",
    "(2) HTML 구성코드창확인\n",
    "(3) ‘커서버튼’을눌러‘강의제목’위치에갖다대기\n",
    "(4) 강의제목위에대고클릭\n",
    "▶HTML 소스창에서해당태그확인\n",
    "(5) 마우스오른쪽클릭▶Copy ▶Copy XPath(태그복사)"
   ]
  },
  {
   "cell_type": "code",
   "execution_count": 12,
   "metadata": {},
   "outputs": [
    {
     "data": {
      "text/plain": [
       "'파이썬을 기반으로한 프로그래밍 알고리즘 기초'"
      ]
     },
     "execution_count": 12,
     "metadata": {},
     "output_type": "execute_result"
    }
   ],
   "source": [
    "driver.find_element(By.XPATH,'//*[@id=\"curriculum\"]/ul[1]/li[1]/div/a').text"
   ]
  },
  {
   "cell_type": "code",
   "execution_count": 15,
   "metadata": {},
   "outputs": [
    {
     "data": {
      "text/plain": [
       "'[상시] 2024.01.01~2024.12.31'"
      ]
     },
     "execution_count": 15,
     "metadata": {},
     "output_type": "execute_result"
    }
   ],
   "source": [
    "driver.find_element(By.XPATH,'//*[@id=\"curriculum\"]/ul[1]/li[1]/div/div/p[1]').text"
   ]
  },
  {
   "cell_type": "markdown",
   "metadata": {},
   "source": [
    "대량의 데이터 수집 for문 활용\n",
    "- 첫번째 항목과 마지막 항목 패턴 비교\n",
    "\n",
    "'//*[@id=\"curriculum\"]/ul[1]/li[1]/div/a'\n",
    "'//*[@id=\"curriculum\"]/ul[6]/li[2]/div/a'\n",
    "\n"
   ]
  },
  {
   "cell_type": "code",
   "execution_count": 16,
   "metadata": {},
   "outputs": [
    {
     "name": "stdout",
     "output_type": "stream",
     "text": [
      "파이썬을 기반으로한 프로그래밍 알고리즘 기초\n",
      "파이썬 데이터 시각화\n",
      "파이썬으로 하는 주식, 암호화폐 시장 데이터 분석\n",
      "파이썬을 이용한 비트코인 자동매매\n",
      "파이썬 데이터 시각화\n",
      "GPT API를 사용한 티스토리 자동 글쓰기 프로그램 만들기\n"
     ]
    }
   ],
   "source": [
    "for i in range (1, 6+1):\n",
    "    title = driver.find_element(By.XPATH,\n",
    "                                '//*[@id=\"curriculum\"]/ul['+str(i)+']/li[1]/div/a').text\n",
    "    print(title)"
   ]
  },
  {
   "cell_type": "code",
   "execution_count": 17,
   "metadata": {},
   "outputs": [
    {
     "name": "stdout",
     "output_type": "stream",
     "text": [
      "파이썬을 기반으로한 프로그래밍 알고리즘 기초\n",
      "파이썬(판다스)으로 배우는 데이터 분석 입문\n",
      "파이썬 데이터 시각화\n",
      "파이썬으로 배우는 실전 금융 데이터 분석(퀀트)\n",
      "파이썬으로 하는 주식, 암호화폐 시장 데이터 분석\n",
      "빅데이터 수집시스템 개발\n",
      "파이썬을 이용한 비트코인 자동매매\n",
      "Python GPT API 가이드 - 코드 구현, 이용요금 충전, 사용량 확인\n",
      "파이썬 데이터 시각화\n",
      "전문가에게 배우는 나의 첫 파이썬\n",
      "GPT API를 사용한 티스토리 자동 글쓰기 프로그램 만들기\n",
      "[K-디지털] 파이썬으로 하는 주식, 암호화폐 시장 데이터 분석\n"
     ]
    }
   ],
   "source": [
    "def get_title(driver, i, j):\n",
    "    xpath = f'//*[@id=\"curriculum\"]/ul[{i}]/li[{j}]/div/a'\n",
    "    return driver.find_element(By.XPATH, xpath).text\n",
    "\n",
    "for i in range(1, 7):\n",
    "    for j in range(1, 3):\n",
    "        title = get_title(driver, i, j)\n",
    "        print(title)"
   ]
  },
  {
   "cell_type": "code",
   "execution_count": 18,
   "metadata": {},
   "outputs": [
    {
     "name": "stdout",
     "output_type": "stream",
     "text": [
      "[상시] 2024.01.01~2024.12.31\n",
      "[상시] 2024.01.01~2024.12.31\n",
      "[정규] 2024.10.15~2024.11.14\n",
      "[상시] 2024.01.01~2024.12.31\n",
      "[정규] 2024.10.15~2024.11.14\n",
      "[정규] 2024.10.15~2024.11.14\n",
      "[상시] 2024.01.01~2024.12.31\n",
      "[상시] 2024.07.12~2024.12.31\n",
      "[상시] 2024.06.01~2024.12.31\n",
      "[상시] 2024.01.01~2024.12.31\n",
      "[상시] 2024.07.12~2024.12.31\n",
      "[상시] 2024.02.25~2025.02.28\n"
     ]
    }
   ],
   "source": [
    "def get_title(driver, i, j):\n",
    "    xpath = f'//*[@id=\"curriculum\"]/ul[{i}]/li[{j}]/div/div/p[1]'\n",
    "    return driver.find_element(By.XPATH, xpath).text\n",
    "\n",
    "for i in range(1, 7):\n",
    "    for j in range(1, 3):\n",
    "        date = get_title(driver, i, j)\n",
    "        print(date)"
   ]
  },
  {
   "cell_type": "code",
   "execution_count": 21,
   "metadata": {},
   "outputs": [],
   "source": [
    "# 엑셀로 변환하기\n",
    "\n",
    "# 데이터를 넣을 공간을 리스트 형태로 구성함\n",
    "title_box = []\n",
    "date_box = []\n",
    "\n",
    "def get_title_and_date(driver, i, j):\n",
    "    title_xpath = f'//*[@id=\"curriculum\"]/ul[{i}]/li[{j}]/div/a'\n",
    "    date_xpath = f'//*[@id=\"curriculum\"]/ul[{i}]/li[{j}]/div/div/p[1]'\n",
    "    title = driver.find_element(By.XPATH, title_xpath).text\n",
    "    date = driver.find_element(By.XPATH, date_xpath).text\n",
    "    return title, date\n",
    "\n",
    "for i in range(1, 7):\n",
    "    for j in range(1, 3):\n",
    "        title, date = get_title_and_date(driver, i, j)\n",
    "        # print(f'Title: {title}, Date: {date}')\n",
    "\n",
    "        title_box.append(title)\n",
    "        date_box.append(date)\n"
   ]
  },
  {
   "cell_type": "code",
   "execution_count": 22,
   "metadata": {},
   "outputs": [
    {
     "data": {
      "text/plain": [
       "['파이썬을 기반으로한 프로그래밍 알고리즘 기초',\n",
       " '파이썬(판다스)으로 배우는 데이터 분석 입문',\n",
       " '파이썬 데이터 시각화',\n",
       " '파이썬으로 배우는 실전 금융 데이터 분석(퀀트)',\n",
       " '파이썬으로 하는 주식, 암호화폐 시장 데이터 분석',\n",
       " '빅데이터 수집시스템 개발',\n",
       " '파이썬을 이용한 비트코인 자동매매',\n",
       " 'Python GPT API 가이드 - 코드 구현, 이용요금 충전, 사용량 확인',\n",
       " '파이썬 데이터 시각화',\n",
       " '전문가에게 배우는 나의 첫 파이썬',\n",
       " 'GPT API를 사용한 티스토리 자동 글쓰기 프로그램 만들기',\n",
       " '[K-디지털] 파이썬으로 하는 주식, 암호화폐 시장 데이터 분석']"
      ]
     },
     "execution_count": 22,
     "metadata": {},
     "output_type": "execute_result"
    }
   ],
   "source": [
    "title_box"
   ]
  },
  {
   "cell_type": "code",
   "execution_count": 23,
   "metadata": {},
   "outputs": [
    {
     "data": {
      "text/plain": [
       "['[상시] 2024.01.01~2024.12.31',\n",
       " '[상시] 2024.01.01~2024.12.31',\n",
       " '[정규] 2024.10.15~2024.11.14',\n",
       " '[상시] 2024.01.01~2024.12.31',\n",
       " '[정규] 2024.10.15~2024.11.14',\n",
       " '[정규] 2024.10.15~2024.11.14',\n",
       " '[상시] 2024.01.01~2024.12.31',\n",
       " '[상시] 2024.07.12~2024.12.31',\n",
       " '[상시] 2024.06.01~2024.12.31',\n",
       " '[상시] 2024.01.01~2024.12.31',\n",
       " '[상시] 2024.07.12~2024.12.31',\n",
       " '[상시] 2024.02.25~2025.02.28']"
      ]
     },
     "execution_count": 23,
     "metadata": {},
     "output_type": "execute_result"
    }
   ],
   "source": [
    "date_box"
   ]
  },
  {
   "cell_type": "code",
   "execution_count": 26,
   "metadata": {},
   "outputs": [
    {
     "name": "stderr",
     "output_type": "stream",
     "text": [
      "\n",
      "[notice] A new release of pip is available: 24.0 -> 24.2\n",
      "[notice] To update, run: C:\\Users\\이유미\\AppData\\Local\\Microsoft\\WindowsApps\\PythonSoftwareFoundation.Python.3.11_qbz5n2kfra8p0\\python.exe -m pip install --upgrade pip\n"
     ]
    },
    {
     "name": "stdout",
     "output_type": "stream",
     "text": [
      "Collecting pandas\n",
      "  Downloading pandas-2.2.3-cp311-cp311-win_amd64.whl.metadata (19 kB)\n",
      "Collecting numpy>=1.23.2 (from pandas)\n",
      "  Downloading numpy-2.1.1-cp311-cp311-win_amd64.whl.metadata (59 kB)\n",
      "     ---------------------------------------- 0.0/59.7 kB ? eta -:--:--\n",
      "     ---------------------------------------- 59.7/59.7 kB 3.1 MB/s eta 0:00:00\n",
      "Requirement already satisfied: python-dateutil>=2.8.2 in c:\\users\\이유미\\appdata\\local\\packages\\pythonsoftwarefoundation.python.3.11_qbz5n2kfra8p0\\localcache\\local-packages\\python311\\site-packages (from pandas) (2.9.0.post0)\n",
      "Collecting pytz>=2020.1 (from pandas)\n",
      "  Downloading pytz-2024.2-py2.py3-none-any.whl.metadata (22 kB)\n",
      "Collecting tzdata>=2022.7 (from pandas)\n",
      "  Downloading tzdata-2024.2-py2.py3-none-any.whl.metadata (1.4 kB)\n",
      "Requirement already satisfied: six>=1.5 in c:\\users\\이유미\\appdata\\local\\packages\\pythonsoftwarefoundation.python.3.11_qbz5n2kfra8p0\\localcache\\local-packages\\python311\\site-packages (from python-dateutil>=2.8.2->pandas) (1.16.0)\n",
      "Downloading pandas-2.2.3-cp311-cp311-win_amd64.whl (11.6 MB)\n",
      "   ---------------------------------------- 0.0/11.6 MB ? eta -:--:--\n",
      "   --- ------------------------------------ 1.0/11.6 MB 32.0 MB/s eta 0:00:01\n",
      "   -------- ------------------------------- 2.3/11.6 MB 24.6 MB/s eta 0:00:01\n",
      "   ------------ --------------------------- 3.7/11.6 MB 26.1 MB/s eta 0:00:01\n",
      "   ----------------- ---------------------- 4.9/11.6 MB 26.4 MB/s eta 0:00:01\n",
      "   --------------------- ------------------ 6.3/11.6 MB 28.7 MB/s eta 0:00:01\n",
      "   ----------------------- ---------------- 6.7/11.6 MB 25.3 MB/s eta 0:00:01\n",
      "   ---------------------------- ----------- 8.3/11.6 MB 26.4 MB/s eta 0:00:01\n",
      "   -------------------------------- ------- 9.4/11.6 MB 26.2 MB/s eta 0:00:01\n",
      "   ----------------------------------- ---- 10.4/11.6 MB 25.2 MB/s eta 0:00:01\n",
      "   ---------------------------------------  11.6/11.6 MB 25.1 MB/s eta 0:00:01\n",
      "   ---------------------------------------  11.6/11.6 MB 25.1 MB/s eta 0:00:01\n",
      "   ---------------------------------------- 11.6/11.6 MB 21.1 MB/s eta 0:00:00\n",
      "Downloading numpy-2.1.1-cp311-cp311-win_amd64.whl (12.9 MB)\n",
      "   ---------------------------------------- 0.0/12.9 MB ? eta -:--:--\n",
      "   ------ --------------------------------- 2.0/12.9 MB 43.4 MB/s eta 0:00:01\n",
      "   ------------ --------------------------- 4.0/12.9 MB 36.8 MB/s eta 0:00:01\n",
      "   ----------------- ---------------------- 5.6/12.9 MB 35.5 MB/s eta 0:00:01\n",
      "   ------------------ --------------------- 6.1/12.9 MB 29.9 MB/s eta 0:00:01\n",
      "   -------------------- ------------------- 6.7/12.9 MB 25.2 MB/s eta 0:00:01\n",
      "   ---------------------- ----------------- 7.4/12.9 MB 24.9 MB/s eta 0:00:01\n",
      "   ----------------------- ---------------- 7.5/12.9 MB 21.8 MB/s eta 0:00:01\n",
      "   ----------------------- ---------------- 7.6/12.9 MB 18.8 MB/s eta 0:00:01\n",
      "   ------------------------- -------------- 8.1/12.9 MB 17.3 MB/s eta 0:00:01\n",
      "   ---------------------------- ----------- 9.3/12.9 MB 17.0 MB/s eta 0:00:01\n",
      "   ------------------------------ --------- 9.9/12.9 MB 16.7 MB/s eta 0:00:01\n",
      "   -------------------------------- ------- 10.4/12.9 MB 16.0 MB/s eta 0:00:01\n",
      "   ------------------------------------- -- 12.0/12.9 MB 15.6 MB/s eta 0:00:01\n",
      "   ---------------------------------------  12.9/12.9 MB 16.0 MB/s eta 0:00:01\n",
      "   ---------------------------------------- 12.9/12.9 MB 14.2 MB/s eta 0:00:00\n",
      "Downloading pytz-2024.2-py2.py3-none-any.whl (508 kB)\n",
      "   ---------------------------------------- 0.0/508.0 kB ? eta -:--:--\n",
      "   --------------------------------------- 508.0/508.0 kB 33.2 MB/s eta 0:00:00\n",
      "Downloading tzdata-2024.2-py2.py3-none-any.whl (346 kB)\n",
      "   ---------------------------------------- 0.0/346.6 kB ? eta -:--:--\n",
      "   --------------------------------------- 346.6/346.6 kB 10.5 MB/s eta 0:00:00\n",
      "Installing collected packages: pytz, tzdata, numpy, pandas\n",
      "Successfully installed numpy-2.1.1 pandas-2.2.3 pytz-2024.2 tzdata-2024.2\n"
     ]
    }
   ],
   "source": [
    "# !pip install pandas"
   ]
  },
  {
   "cell_type": "code",
   "execution_count": 30,
   "metadata": {},
   "outputs": [
    {
     "data": {
      "text/html": [
       "<div>\n",
       "<style scoped>\n",
       "    .dataframe tbody tr th:only-of-type {\n",
       "        vertical-align: middle;\n",
       "    }\n",
       "\n",
       "    .dataframe tbody tr th {\n",
       "        vertical-align: top;\n",
       "    }\n",
       "\n",
       "    .dataframe thead th {\n",
       "        text-align: right;\n",
       "    }\n",
       "</style>\n",
       "<table border=\"1\" class=\"dataframe\">\n",
       "  <thead>\n",
       "    <tr style=\"text-align: right;\">\n",
       "      <th></th>\n",
       "      <th>강의명</th>\n",
       "      <th>강의기간</th>\n",
       "    </tr>\n",
       "  </thead>\n",
       "  <tbody>\n",
       "    <tr>\n",
       "      <th>0</th>\n",
       "      <td>파이썬을 기반으로한 프로그래밍 알고리즘 기초</td>\n",
       "      <td>[상시] 2024.01.01~2024.12.31</td>\n",
       "    </tr>\n",
       "    <tr>\n",
       "      <th>1</th>\n",
       "      <td>파이썬(판다스)으로 배우는 데이터 분석 입문</td>\n",
       "      <td>[상시] 2024.01.01~2024.12.31</td>\n",
       "    </tr>\n",
       "    <tr>\n",
       "      <th>2</th>\n",
       "      <td>파이썬 데이터 시각화</td>\n",
       "      <td>[정규] 2024.10.15~2024.11.14</td>\n",
       "    </tr>\n",
       "    <tr>\n",
       "      <th>3</th>\n",
       "      <td>파이썬으로 배우는 실전 금융 데이터 분석(퀀트)</td>\n",
       "      <td>[상시] 2024.01.01~2024.12.31</td>\n",
       "    </tr>\n",
       "    <tr>\n",
       "      <th>4</th>\n",
       "      <td>파이썬으로 하는 주식, 암호화폐 시장 데이터 분석</td>\n",
       "      <td>[정규] 2024.10.15~2024.11.14</td>\n",
       "    </tr>\n",
       "    <tr>\n",
       "      <th>5</th>\n",
       "      <td>빅데이터 수집시스템 개발</td>\n",
       "      <td>[정규] 2024.10.15~2024.11.14</td>\n",
       "    </tr>\n",
       "    <tr>\n",
       "      <th>6</th>\n",
       "      <td>파이썬을 이용한 비트코인 자동매매</td>\n",
       "      <td>[상시] 2024.01.01~2024.12.31</td>\n",
       "    </tr>\n",
       "    <tr>\n",
       "      <th>7</th>\n",
       "      <td>Python GPT API 가이드 - 코드 구현, 이용요금 충전, 사용량 확인</td>\n",
       "      <td>[상시] 2024.07.12~2024.12.31</td>\n",
       "    </tr>\n",
       "    <tr>\n",
       "      <th>8</th>\n",
       "      <td>파이썬 데이터 시각화</td>\n",
       "      <td>[상시] 2024.06.01~2024.12.31</td>\n",
       "    </tr>\n",
       "    <tr>\n",
       "      <th>9</th>\n",
       "      <td>전문가에게 배우는 나의 첫 파이썬</td>\n",
       "      <td>[상시] 2024.01.01~2024.12.31</td>\n",
       "    </tr>\n",
       "    <tr>\n",
       "      <th>10</th>\n",
       "      <td>GPT API를 사용한 티스토리 자동 글쓰기 프로그램 만들기</td>\n",
       "      <td>[상시] 2024.07.12~2024.12.31</td>\n",
       "    </tr>\n",
       "    <tr>\n",
       "      <th>11</th>\n",
       "      <td>[K-디지털] 파이썬으로 하는 주식, 암호화폐 시장 데이터 분석</td>\n",
       "      <td>[상시] 2024.02.25~2025.02.28</td>\n",
       "    </tr>\n",
       "  </tbody>\n",
       "</table>\n",
       "</div>"
      ],
      "text/plain": [
       "                                            강의명                        강의기간\n",
       "0                      파이썬을 기반으로한 프로그래밍 알고리즘 기초  [상시] 2024.01.01~2024.12.31\n",
       "1                      파이썬(판다스)으로 배우는 데이터 분석 입문  [상시] 2024.01.01~2024.12.31\n",
       "2                                   파이썬 데이터 시각화  [정규] 2024.10.15~2024.11.14\n",
       "3                    파이썬으로 배우는 실전 금융 데이터 분석(퀀트)  [상시] 2024.01.01~2024.12.31\n",
       "4                   파이썬으로 하는 주식, 암호화폐 시장 데이터 분석  [정규] 2024.10.15~2024.11.14\n",
       "5                                 빅데이터 수집시스템 개발  [정규] 2024.10.15~2024.11.14\n",
       "6                            파이썬을 이용한 비트코인 자동매매  [상시] 2024.01.01~2024.12.31\n",
       "7   Python GPT API 가이드 - 코드 구현, 이용요금 충전, 사용량 확인  [상시] 2024.07.12~2024.12.31\n",
       "8                                   파이썬 데이터 시각화  [상시] 2024.06.01~2024.12.31\n",
       "9                            전문가에게 배우는 나의 첫 파이썬  [상시] 2024.01.01~2024.12.31\n",
       "10            GPT API를 사용한 티스토리 자동 글쓰기 프로그램 만들기  [상시] 2024.07.12~2024.12.31\n",
       "11          [K-디지털] 파이썬으로 하는 주식, 암호화폐 시장 데이터 분석  [상시] 2024.02.25~2025.02.28"
      ]
     },
     "execution_count": 30,
     "metadata": {},
     "output_type": "execute_result"
    }
   ],
   "source": [
    "import pandas as pd\n",
    "df1= pd.DataFrame(data={'강의명': title_box, '강의기간': date_box})\n",
    "df1"
   ]
  },
  {
   "cell_type": "code",
   "execution_count": 33,
   "metadata": {},
   "outputs": [
    {
     "name": "stderr",
     "output_type": "stream",
     "text": [
      "\n",
      "[notice] A new release of pip is available: 24.0 -> 24.2\n",
      "[notice] To update, run: C:\\Users\\이유미\\AppData\\Local\\Microsoft\\WindowsApps\\PythonSoftwareFoundation.Python.3.11_qbz5n2kfra8p0\\python.exe -m pip install --upgrade pip\n"
     ]
    },
    {
     "name": "stdout",
     "output_type": "stream",
     "text": [
      "Collecting openpyxl\n",
      "  Downloading openpyxl-3.1.5-py2.py3-none-any.whl.metadata (2.5 kB)\n",
      "Collecting et-xmlfile (from openpyxl)\n",
      "  Downloading et_xmlfile-1.1.0-py3-none-any.whl.metadata (1.8 kB)\n",
      "Downloading openpyxl-3.1.5-py2.py3-none-any.whl (250 kB)\n",
      "   ---------------------------------------- 0.0/250.9 kB ? eta -:--:--\n",
      "   ---------------------------------------- 0.0/250.9 kB ? eta -:--:--\n",
      "   - -------------------------------------- 10.2/250.9 kB ? eta -:--:--\n",
      "   --------- ----------------------------- 61.4/250.9 kB 825.8 kB/s eta 0:00:01\n",
      "   ---------------------------------------- 250.9/250.9 kB 2.2 MB/s eta 0:00:00\n",
      "Downloading et_xmlfile-1.1.0-py3-none-any.whl (4.7 kB)\n",
      "Installing collected packages: et-xmlfile, openpyxl\n",
      "Successfully installed et-xmlfile-1.1.0 openpyxl-3.1.5\n"
     ]
    }
   ],
   "source": [
    "!pip install openpyxl"
   ]
  },
  {
   "cell_type": "code",
   "execution_count": 38,
   "metadata": {},
   "outputs": [],
   "source": [
    "df1.to_excel(r'data/result241002.xlsx')"
   ]
  }
 ],
 "metadata": {
  "kernelspec": {
   "display_name": "Python 3",
   "language": "python",
   "name": "python3"
  },
  "language_info": {
   "codemirror_mode": {
    "name": "ipython",
    "version": 3
   },
   "file_extension": ".py",
   "mimetype": "text/x-python",
   "name": "python",
   "nbconvert_exporter": "python",
   "pygments_lexer": "ipython3",
   "version": "3.11.9"
  }
 },
 "nbformat": 4,
 "nbformat_minor": 2
}
