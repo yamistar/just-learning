{
 "cells": [
  {
   "cell_type": "markdown",
   "metadata": {},
   "source": [
    "## 20241004 학습내용\n",
    "- 이미지 가져오기"
   ]
  },
  {
   "cell_type": "code",
   "execution_count": 4,
   "metadata": {},
   "outputs": [],
   "source": [
    "from selenium import webdriver\n",
    "from selenium.webdriver.common.by import By\n",
    "\n",
    "# 크롤링할 웹사이트 링크\n",
    "crawling_link='https://www.step.or.kr/'\n",
    "\n",
    "# 크롬 드라이버를 사용하여 브라우저를 실행 하여 웹페이지 오픈\n",
    "driver = webdriver.Chrome()\n",
    "driver.get(crawling_link) # 사이트 접속\n",
    "\n",
    "# 페이지 화면까지 클릭하는 로직\n",
    "\n",
    "# 새로운 페이지로 클릭하여 접속\n",
    "driver.find_element(By.XPATH,'/html/body/div[7]/div[1]/button/img').click()\n",
    "driver.find_element(By.XPATH,'//*[@id=\"popWordArea\"]/a[1]').click()\n",
    "driver.find_element(By.XPATH,'//*[@id=\"tab_curriculum\"]').click()\n",
    "# 암묵적 대기 설정 (5초)\n",
    "driver.implicitly_wait(5)"
   ]
  },
  {
   "cell_type": "code",
   "execution_count": 5,
   "metadata": {},
   "outputs": [],
   "source": [
    "# 이미지 Xpath를 PC에 저장하기\n",
    "\n",
    "# 이미지 라이브러리 임포트\n",
    "import urllib.request"
   ]
  },
  {
   "cell_type": "code",
   "execution_count": null,
   "metadata": {},
   "outputs": [],
   "source": [
    "# 이미지 요소 찾기\n",
    "img_element = driver.find_element(By.XPATH,'//*[@id=\"curriculum\"]/ul[1]/li[1]/a/img')\n",
    "print(img_element)\n",
    "\n",
    "# 이미지 URL 가져오기\n",
    "img_url = img_element.get_attribute('src')\n",
    "print(img_url)"
   ]
  },
  {
   "cell_type": "code",
   "execution_count": null,
   "metadata": {},
   "outputs": [],
   "source": [
    "# 이미지 다운로드 및 저장\n",
    "urllib.request.urlretrieve(img_url, r'data/downloaded_image.png')"
   ]
  },
  {
   "cell_type": "code",
   "execution_count": 7,
   "metadata": {},
   "outputs": [],
   "source": [
    "# 페이지를 닫는다.\n",
    "driver.quit()"
   ]
  },
  {
   "cell_type": "markdown",
   "metadata": {},
   "source": [
    "* 페이징하기.. "
   ]
  },
  {
   "cell_type": "code",
   "execution_count": 62,
   "metadata": {},
   "outputs": [],
   "source": [
    "from selenium import webdriver\n",
    "from selenium.webdriver.common.by import By\n",
    "import time\n",
    "\n",
    "# 크롤링할 웹사이트 링크\n",
    "crawling_link='https://www.step.or.kr'\n",
    "\n",
    "# 크롬 드라이버를 사용하여 브라우저를 실행 하여 웹페이지 오픈\n",
    "driver = webdriver.Chrome()\n",
    "driver.get(crawling_link) # 사이트 접속\n",
    "\n",
    "# 새로운 페이지로 클릭하여 접속\n",
    "driver.find_element(By.XPATH,'/html/body/div[7]/div[1]/button/img').click()\n",
    "\n",
    "# 검색 키워드입력\n",
    "#driver.find_element(By.XPATH,'//*[@id=\"srch_text\"]').send_keys('자동화')\n",
    "#driver.find_element(By.XPATH,'//*[@id=\"contentsLayer\"]/div/div[1]/div[1]/div/div[1]/button[2]').click()\n",
    "\n",
    "driver.find_element(By.XPATH,'//*[@id=\"popWordArea\"]/a[1]').click()\n",
    "driver.find_element(By.XPATH,'//*[@id=\"tab_curriculum\"]').click()\n",
    "\n",
    "# 암묵적 대기 설정 (5초)\n",
    "driver.implicitly_wait(5)\n",
    "\n"
   ]
  },
  {
   "cell_type": "code",
   "execution_count": 53,
   "metadata": {},
   "outputs": [
    {
     "name": "stdout",
     "output_type": "stream",
     "text": [
      "1페이지\n",
      "2페이지\n",
      "3페이지\n",
      "4페이지\n",
      "5페이지\n",
      "6페이지\n",
      "7페이지\n"
     ]
    }
   ],
   "source": [
    "for i in range(1, 8):\n",
    "    pagenum = '//*[@id=\"pagination\"]/a['+ str(i) +']/span'\n",
    "    driver.find_element(By.XPATH, pagenum).click()\n",
    "    print(f'{i}페이지')\n",
    "    time.sleep(2)  # 페이지 로딩을 기다림"
   ]
  },
  {
   "cell_type": "code",
   "execution_count": 63,
   "metadata": {},
   "outputs": [],
   "source": [
    "# 강의명 추출\n",
    "#course_name_xpath = '//*[@id=\"wrap\"]/div/div[2]/div[2]/div[1]' \n",
    "#course_name = driver.find_element(By.XPATH, course_name_xpath).text\n",
    "\n",
    "# 학습시간 추출\n",
    "#learning_time_xpath = '//*[@id=\"wrap\"]/div/div[2]/div[2]/div[2]/div[2]/div[2]/div/p[3]/span[2]'  \n",
    "#learning_time = driver.find_element(By.XPATH, learning_time_xpath).text\n",
    "\n",
    "# 운영사 정보 추출\n",
    "#provider_xpath = '//*[@id=\"wrap\"]/div/div[2]/div[2]/div[2]/div[2]/div[2]/div/p[6]/span[2]'  # 실제 XPATH로 변경 필요\n",
    "#provider = driver.find_element(By.XPATH, provider_xpath).text\n",
    "\n",
    "# 추출한 정보 출력\n",
    "#print(f\"강의명: {course_name}\")\n",
    "#print(f\"학습시간: {learning_time}\")\n",
    "#print(f\"운영사: {provider}\")\n",
    "\n",
    "# 페이지가 막혔는지 아무것도 되지 않는다.....\n",
    "\n",
    "# 뒷페이지로 돌아가기\n",
    "driver.back()\n",
    "# 페이지를 닫는다.\n",
    "driver.quit()"
   ]
  },
  {
   "cell_type": "code",
   "execution_count": null,
   "metadata": {},
   "outputs": [],
   "source": []
  }
 ],
 "metadata": {
  "kernelspec": {
   "display_name": "Python 3",
   "language": "python",
   "name": "python3"
  },
  "language_info": {
   "codemirror_mode": {
    "name": "ipython",
    "version": 3
   },
   "file_extension": ".py",
   "mimetype": "text/x-python",
   "name": "python",
   "nbconvert_exporter": "python",
   "pygments_lexer": "ipython3",
   "version": "3.11.9"
  }
 },
 "nbformat": 4,
 "nbformat_minor": 2
}
